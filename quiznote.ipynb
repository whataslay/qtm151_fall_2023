{
 "cells": [
  {
   "cell_type": "code",
   "execution_count": 22,
   "metadata": {},
   "outputs": [],
   "source": [
    "#import things\n",
    "import numpy as np\n",
    "import pandas as pd\n",
    "import matplotlib.pyplot as plt\n",
    "import statsmodels.api as sm\n",
    "import statsmodels.formula.api as smf"
   ]
  },
  {
   "cell_type": "code",
   "execution_count": 23,
   "metadata": {},
   "outputs": [],
   "source": [
    "#making functions\n",
    "\n",
    "def function_v(P, r,n, t):\n",
    "    v = P*(1+(r/n))**(n*t)\n",
    "    return v\n",
    "\n",
    "fn_v = lambda P, r, n, t: P*(1+(r/n))**(n*t)"
   ]
  },
  {
   "cell_type": "code",
   "execution_count": 24,
   "metadata": {},
   "outputs": [
    {
     "data": {
      "text/html": [
       "<div>\n",
       "<style scoped>\n",
       "    .dataframe tbody tr th:only-of-type {\n",
       "        vertical-align: middle;\n",
       "    }\n",
       "\n",
       "    .dataframe tbody tr th {\n",
       "        vertical-align: top;\n",
       "    }\n",
       "\n",
       "    .dataframe thead th {\n",
       "        text-align: right;\n",
       "    }\n",
       "</style>\n",
       "<table border=\"1\" class=\"dataframe\">\n",
       "  <thead>\n",
       "    <tr style=\"text-align: right;\">\n",
       "      <th></th>\n",
       "      <th>age</th>\n",
       "      <th>num_underage_siblings</th>\n",
       "      <th>num_adult_siblings</th>\n",
       "      <th>can_vote</th>\n",
       "      <th>num_siblings</th>\n",
       "    </tr>\n",
       "  </thead>\n",
       "  <tbody>\n",
       "    <tr>\n",
       "      <th>0</th>\n",
       "      <td>18</td>\n",
       "      <td>0</td>\n",
       "      <td>1</td>\n",
       "      <td>yes</td>\n",
       "      <td>1</td>\n",
       "    </tr>\n",
       "    <tr>\n",
       "      <th>1</th>\n",
       "      <td>29</td>\n",
       "      <td>0</td>\n",
       "      <td>0</td>\n",
       "      <td>yes</td>\n",
       "      <td>0</td>\n",
       "    </tr>\n",
       "    <tr>\n",
       "      <th>2</th>\n",
       "      <td>15</td>\n",
       "      <td>1</td>\n",
       "      <td>0</td>\n",
       "      <td>no</td>\n",
       "      <td>1</td>\n",
       "    </tr>\n",
       "    <tr>\n",
       "      <th>3</th>\n",
       "      <td>32</td>\n",
       "      <td>1</td>\n",
       "      <td>1</td>\n",
       "      <td>yes</td>\n",
       "      <td>2</td>\n",
       "    </tr>\n",
       "    <tr>\n",
       "      <th>4</th>\n",
       "      <td>6</td>\n",
       "      <td>0</td>\n",
       "      <td>0</td>\n",
       "      <td>no</td>\n",
       "      <td>0</td>\n",
       "    </tr>\n",
       "  </tbody>\n",
       "</table>\n",
       "</div>"
      ],
      "text/plain": [
       "   age  num_underage_siblings  num_adult_siblings can_vote  num_siblings\n",
       "0   18                      0                   1      yes             1\n",
       "1   29                      0                   0      yes             0\n",
       "2   15                      1                   0       no             1\n",
       "3   32                      1                   1      yes             2\n",
       "4    6                      0                   0       no             0"
      ]
     },
     "metadata": {},
     "output_type": "display_data"
    }
   ],
   "source": [
    "#function with data\n",
    "\n",
    "data  = pd.DataFrame()\n",
    "data[\"age\"]                   = [18,29,15,32,6]\n",
    "data[\"num_underage_siblings\"] = [0,0,1,1,0]\n",
    "data[\"num_adult_siblings\"]    = [1,0,0,1,0]\n",
    "\n",
    "votefn = lambda age: \"yes\" if age>=18 else \"no\"\n",
    "data[\"can_vote\"] = data[\"age\"].apply(votefn)\n",
    "data[\"can_vote\"] = list(map(votefn,data[\"age\"]))\n",
    "\n",
    "fn_sum = lambda x,y: x+y\n",
    "data[\"num_siblings\"] = list(map(fn_sum, data[\"num_underage_siblings\"], data[\"num_adult_siblings\"]))\n",
    "\n",
    "display(data)"
   ]
  },
  {
   "cell_type": "code",
   "execution_count": null,
   "metadata": {},
   "outputs": [],
   "source": [
    "#query and global variable\n",
    "\n",
    "carfeatures = pd.read_csv(\"lecture_10/data_raw/features.csv\")\n",
    "carfeatures[\"weight\"].describe() #for summary statistics\n",
    "\n",
    "#query (the following three are the same)\n",
    "a = carfeatures[(carfeatures['acceleration']>=10) & (carfeatures['acceleration']<18)]\n",
    "b = carfeatures.query(\"acceleration>=10 & acceleration<18\")\n",
    "c = carfeatures.query(\"acceleration>=10 and acceleration<18\")\n",
    "\n",
    "#with global variables\n",
    "x=10; y=18\n",
    "carfeatures[(carfeatures['acceleration']>=x) & (carfeatures['acceleration']<y)]\n",
    "carfeatures.query(\"acceleration>=@x & acceleration<@y\")\n"
   ]
  },
  {
   "cell_type": "code",
   "execution_count": null,
   "metadata": {},
   "outputs": [],
   "source": [
    "#sorting and observing high values\n",
    "carfeatures = pd.read_csv(\"lecture_10/data_raw/features.csv\")\n",
    "carsorted = carfeatures.sort_values(by = \"mpg\", ascending = False) #sorted by mpg (big to small)\n",
    "\n",
    "carsorted.iloc[:10,:] #top 10 observation\n",
    "carsorted.iloc[0:10,:] #same thing\n"
   ]
  },
  {
   "cell_type": "code",
   "execution_count": null,
   "metadata": {},
   "outputs": [],
   "source": [
    "#split into subset of two groups\n",
    "carfeatures = pd.read_csv(\"lecture_10/data_raw/features.csv\")\n",
    "np.random.seed(42)\n",
    "carfeatures[\"status\"] = np.random.choice([\"Treatment\",\"Control\"],\n",
    "                                         size = len(carfeatures),\n",
    "                                         p = [0.4,0.6])\n",
    "\n",
    "treatmentgrp = carfeatures.query('status==\"Treatment\"')\n",
    "controlgrp = carfeatures.query('status==\"Control\"')\n",
    "\n",
    "display(treatmentgrp.describe())\n",
    "display(controlgrp.describe())"
   ]
  },
  {
   "cell_type": "code",
   "execution_count": 74,
   "metadata": {},
   "outputs": [
    {
     "data": {
      "text/plain": [
       "Text(0.5, 1.0, 'Example graph')"
      ]
     },
     "execution_count": 74,
     "metadata": {},
     "output_type": "execute_result"
    },
    {
     "data": {
      "image/png": "[encoded data removed]",
      "text/plain": [
       "<Figure size 640x480 with 1 Axes>"
      ]
     },
     "metadata": {},
     "output_type": "display_data"
    }
   ],
   "source": [
    "#histogram (f)\n",
    "plt.hist (x=carfeatures[\"mpg\"],alpha=0.5)\n",
    "plt.hist (x=carfeatures[\"mpg\"]+0.1,alpha=0.5)\n",
    "plt.legend([\"a\",\"b\"])\n",
    "plt.xlabel(\"mpg\")\n",
    "plt.ylabel(\"freq\")\n",
    "plt.title(\"Example graph\")"
   ]
  },
  {
   "attachments": {},
   "cell_type": "markdown",
   "metadata": {},
   "source": [
    "\n",
    "\n",
    "<font size = \"5\">\n",
    "\n",
    "(e) Create a function with four inputs $f(y,x,b0,b1)$\n",
    "\n",
    "- Start by using \"def\" to define the function\n",
    "- The function will include arithmetic operations (Lecture 3) <br>\n",
    "and summary statistics for pandas (mean, std, min, max, etc.)\n",
    "- You will be asked to test different values of $(y,x,b0,b1)$\n",
    "- You will get $y$ and $x$ from the two datasets in part (d)\n",
    "- Note: You will **not** be required to use the \"statsmodels\" library\n",
    "\n",
    "<font size = \"5\">\n",
    "\n",
    "(f) Create two overlapping histogram plots\n",
    "\n",
    "- You will use a variable from the two datasets in (d)\n",
    "- You need to use the \"alpha\" option to make the graphs semitransparent\n",
    "- You will need to add a legend, label the axes, and the title\n",
    "- Note: The goal of this question is to illustrate that random <br>\n",
    "assignment produces very similar distributions between two groups"
   ]
  }
 ],
 "metadata": {
  "kernelspec": {
   "display_name": "qtm151",
   "language": "python",
   "name": "python3"
  },
  "language_info": {
   "codemirror_mode": {
    "name": "ipython",
    "version": 3
   },
   "file_extension": ".py",
   "mimetype": "text/x-python",
   "name": "python",
   "nbconvert_exporter": "python",
   "pygments_lexer": "ipython3",
   "version": "3.11.4"
  },
  "orig_nbformat": 4
 },
 "nbformat": 4,
 "nbformat_minor": 2
}
