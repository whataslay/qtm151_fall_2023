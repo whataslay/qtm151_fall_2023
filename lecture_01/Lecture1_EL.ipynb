{
 "cells": [
  {
   "attachments": {},
   "cell_type": "markdown",
   "metadata": {},
   "source": [
    "# <span style=\"color:red\"> Lecture 1: Introduction to Jupyter Notebooks </span>"
   ]
  },
  {
   "attachments": {},
   "cell_type": "markdown",
   "metadata": {},
   "source": [
    "<font size=\"3\"> \n",
    "\n",
    "- A package is a folder containing a set of Python scripts or modules which allow you to accomplish a defined task. **Examples:**\n",
    "\n",
    "    - [Matplotlib](https://matplotlib.org/): package that allows us to do nice graphs in Python\n",
    "    - [Pandas](https://pandas.pydata.org/docs/): package that allows us to work with datasets"
   ]
  },
  {
   "attachments": {},
   "cell_type": "markdown",
   "metadata": {},
   "source": [
    "### <span style=\"color:Red\"> Creating a virtual environment using Anaconda </span>\n",
    "\n",
    "<font size=\"2\"> \n",
    "<ol>\n",
    "    <li>command <code>conda create --name qtm151</code> </li>\n",
    "    <li>check the list of VEs using <code>conda env list</code> </li>\n",
    "    <li>Activate the newly created VE using <code>conda activate qtm151</code> </li>\n",
    "    <li>Check the packages in the VE using <code>conda list</code> </li>\n",
    "    <li>Install python on the VE using <code>conda install python=3.11</code> </li>\n",
    "    <li>Check python version using <code>python --version</code> </li>\n",
    "    <li>Install Jupyter notebook & lab on it using <code>conda install -c conda-forge jupyterlab</code> </li>\n",
    "    \n",
    "</ol>"
   ]
  },
  {
   "attachments": {},
   "cell_type": "markdown",
   "metadata": {},
   "source": [
    "### <span style=\"color:red\"> Installing Packages </span>\n",
    "\n",
    "<font size=\"3\"> \n",
    "\n",
    "We will install two libraries that are not included in \"base\" Python (install them to the current VE)\n",
    "- \"matplotlib\" allows us to do nice graphs in Python\n",
    "    - For this use <code> conda install matplotlib </code>\n",
    "- \"pandas\" allows us to work with datasets\n",
    "    - For this use <code> conda install pandas </code>"
   ]
  },
  {
   "attachments": {},
   "cell_type": "markdown",
   "metadata": {},
   "source": [
    "# <span style=\"color:red\"> Importing and using packages </span>\n",
    "\n",
    "<font size=\"5\"> \n",
    "\n",
    "\n",
    "(a) Import Packages:\n",
    "\n",
    "- Jupyter notebooks will only initiate \"base\" Python.\n",
    "- The \"import\" command adds libraries to the working enviroment. \n",
    "- We can give the libraries a nickname with \"as\"\n",
    "\n"
   ]
  },
  {
   "cell_type": "code",
   "execution_count": 1,
   "metadata": {},
   "outputs": [],
   "source": [
    "# Notes about nicknames:\n",
    "# - For example, \"matplotlib.pyplot\" is a long name. Let's call it \"plt\"\n",
    "# - Similarly, let's call \"pandas\" as \"pd\"\n",
    "# - Try adding your own nickname!\n",
    "# - To avoid errors, be consistent with your nicknames\n",
    "\n",
    "import matplotlib.pyplot as plt\n",
    "import pandas as pd"
   ]
  },
  {
   "attachments": {},
   "cell_type": "markdown",
   "metadata": {},
   "source": [
    "<font size=\"5\"> \n",
    "\n",
    "(b) Open datasets\n",
    "\n",
    "Run the command \"read_csv\" from the library \"pandas\" (nicknamed \"pd\"). \n"
   ]
  },
  {
   "cell_type": "code",
   "execution_count": null,
   "metadata": {},
   "outputs": [],
   "source": [
    "# You can use \".\" to run subcommands contained in a library.\n",
    "# The subcommand \"read_csv()\" opens the file in parenthesis.\n",
    "# We use the \"=\" symbol to store the dataset in the working environment under the name \"carfeatures\"\n",
    "\n",
    "carfeatures = pd.read_csv('data/features.csv')\n",
    "carfeatures #this is the table\n",
    "carfeatures['cylinders'] #this is a (named) column (without the name)\n",
    "carfeatures.describe() #this is summary statistics (count, mean, std, and the five (min,25,50,75,max) )\n"
   ]
  },
  {
   "attachments": {},
   "cell_type": "markdown",
   "metadata": {},
   "source": [
    "<font size=\"5\"> \n",
    "\n",
    "Using matplotlib plt"
   ]
  },
  {
   "cell_type": "code",
   "execution_count": null,
   "metadata": {},
   "outputs": [],
   "source": [
    "# crosstab is a frequency table\n",
    "# \"index\" is the category\n",
    "# \"columns\" is a custom title\n",
    "\n",
    "pd.crosstab(index = carfeatures['cylinders'],columns = \"How many cars have (x) cylinders?\") #this is a frequency table\n",
    "plt.scatter(x = carfeatures['weight'], y = carfeatures['mpg']) #this is a scatter plot\n",
    "plt.scatter(x = carfeatures['weight'], y = carfeatures['acceleration']) #this is a scatter plot\n",
    "plt.show() #this shows all scatter plots\n",
    "\n"
   ]
  }
 ],
 "metadata": {
  "kernelspec": {
   "display_name": "Python 3",
   "language": "python",
   "name": "python3"
  },
  "language_info": {
   "codemirror_mode": {
    "name": "ipython",
    "version": 3
   },
   "file_extension": ".py",
   "mimetype": "text/x-python",
   "name": "python",
   "nbconvert_exporter": "python",
   "pygments_lexer": "ipython3",
   "version": "3.11.4"
  },
  "orig_nbformat": 4,
  "vscode": {
   "interpreter": {
    "hash": "aee8b7b246df8f9039afb4144a1f6fd8d2ca17a180786b69acc140d282b71a49"
   }
  }
 },
 "nbformat": 4,
 "nbformat_minor": 2
}
